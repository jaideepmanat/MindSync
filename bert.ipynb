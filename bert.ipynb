{
 "cells": [
  {
   "cell_type": "code",
   "execution_count": null,
   "id": "96dd71d6",
   "metadata": {
    "vscode": {
     "languageId": "plaintext"
    }
   },
   "outputs": [],
   "source": [
    "import pandas as pd\n",
    "import numpy as np\n",
    "import torch\n",
    "import os\n",
    "from transformers import BertTokenizer, BertForSequenceClassification, Trainer, TrainingArguments\n",
    "from datasets import Dataset\n",
    "from sklearn.model_selection import train_test_split\n",
    "from sklearn.metrics import accuracy_score, precision_recall_fscore_support\n",
    "\n",
    "# Disable Weights & Biases\n",
    "os.environ[\"WANDB_DISABLED\"] = \"true\"\n",
    "\n",
    "# Load dataset\n",
    "df = pd.read_csv(\"Journal_Dataset.csv\")\n",
    "\n",
    "# Map emotions to numerical labels\n",
    "label_map = {\"Happy\": 0, \"Sad\": 1, \"Frustrated\": 2, \"Anxious\": 3}\n",
    "df[\"label\"] = df[\"Emotion\"].map(label_map)\n",
    "\n",
    "# Split dataset with more validation data\n",
    "train_texts, test_texts, train_labels, test_labels = train_test_split(\n",
    "    df[\"How do you feel today?\"].tolist(), df[\"label\"].tolist(), test_size=0.3, random_state=42, stratify=df[\"label\"].tolist()\n",
    ")\n",
    "\n",
    "# Load tokenizer\n",
    "tokenizer = BertTokenizer.from_pretrained(\"bert-base-uncased\")\n",
    "\n",
    "# Convert data to Hugging Face Dataset\n",
    "train_dataset = Dataset.from_dict({\"text\": train_texts, \"labels\": train_labels})\n",
    "test_dataset = Dataset.from_dict({\"text\": test_texts, \"labels\": test_labels})\n",
    "\n",
    "# Tokenization function\n",
    "def tokenize_function(examples):\n",
    "    return tokenizer(examples[\"text\"], truncation=True, padding=\"max_length\", max_length=128)\n",
    "\n",
    "# Apply tokenization\n",
    "train_dataset = train_dataset.map(tokenize_function, batched=True)\n",
    "test_dataset = test_dataset.map(tokenize_function, batched=True)\n",
    "\n",
    "# Load BERT model with dropout regularization\n",
    "model = BertForSequenceClassification.from_pretrained(\"bert-base-uncased\", num_labels=4, hidden_dropout_prob=0.3, attention_probs_dropout_prob=0.3)\n",
    "\n",
    "# Training arguments with adjustments to prevent overfitting\n",
    "training_args = TrainingArguments(\n",
    "    output_dir=\"./results\",\n",
    "    evaluation_strategy=\"epoch\",\n",
    "    save_strategy=\"epoch\",\n",
    "    per_device_train_batch_size=16,  # Increased batch size\n",
    "    per_device_eval_batch_size=16,\n",
    "    num_train_epochs=1,  # Further reduced epochs\n",
    "    weight_decay=0.1,  # Increased regularization\n",
    "    learning_rate=3e-5,  # Slightly increased learning rate\n",
    "    logging_dir=\"./logs\",\n",
    "    save_total_limit=2,  # Limit saved checkpoints\n",
    "    load_best_model_at_end=True,  # Load best model based on validation loss\n",
    ")\n",
    "\n",
    "# Define compute metrics\n",
    "def compute_metrics(eval_pred):\n",
    "    logits, labels = eval_pred\n",
    "    predictions = np.argmax(logits, axis=-1)\n",
    "    acc = accuracy_score(labels, predictions)\n",
    "    precision, recall, f1, _ = precision_recall_fscore_support(labels, predictions, average='weighted')\n",
    "    return {\"accuracy\": acc, \"precision\": precision, \"recall\": recall, \"f1\": f1}\n",
    "\n",
    "# Trainer setup\n",
    "trainer = Trainer(\n",
    "    model=model,\n",
    "    args=training_args,\n",
    "    train_dataset=train_dataset,\n",
    "    eval_dataset=test_dataset,\n",
    "    compute_metrics=compute_metrics,\n",
    ")\n",
    "\n",
    "# Train model with early stopping\n",
    "trainer.train()\n",
    "\n",
    "# Evaluate model\n",
    "results = trainer.evaluate()\n",
    "print(results)\n",
    "\n",
    "# Save model\n",
    "model.save_pretrained(\"./fine_tuned_bert\")\n",
    "tokenizer.save_pretrained(\"./fine_tuned_bert\")"
   ]
  },
  {
   "cell_type": "code",
   "execution_count": null,
   "id": "d7b281f0",
   "metadata": {
    "vscode": {
     "languageId": "plaintext"
    }
   },
   "outputs": [],
   "source": [
    "from google.colab import files\n",
    "import shutil\n",
    "\n",
    "shutil.make_archive(\"fine_tuned_bert\", 'zip', \"./fine_tuned_bert\")\n",
    "files.download(\"fine_tuned_bert.zip\")\n"
   ]
  }
 ],
 "metadata": {
  "language_info": {
   "name": "python"
  }
 },
 "nbformat": 4,
 "nbformat_minor": 5
}
